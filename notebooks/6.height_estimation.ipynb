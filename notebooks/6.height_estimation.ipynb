{
 "cells": [
  {
   "cell_type": "code",
   "execution_count": null,
   "id": "eabb0a62",
   "metadata": {},
   "outputs": [
    {
     "name": "stdout",
     "output_type": "stream",
     "text": [
      "Jupyter environment detected. Enabling Open3D WebVisualizer.\n",
      "[Open3D INFO] WebRTC GUI backend enabled.\n",
      "[Open3D INFO] WebRTCWindowSystem: HTTP handshake server disabled.\n"
     ]
    }
   ],
   "source": [
    "import numpy as np\n",
    "import open3d as o3d\n",
    "\n",
    "%load_ext autoreload\n",
    "%autoreload 2"
   ]
  },
  {
   "cell_type": "code",
   "execution_count": 2,
   "id": "041d0bca",
   "metadata": {},
   "outputs": [],
   "source": [
    "path = \"../datasets/budha_board/meshes/budha_mesh.ply\"\n",
    "pcd_mesh = o3d.io.read_point_cloud(path)"
   ]
  },
  {
   "cell_type": "code",
   "execution_count": 3,
   "id": "6fdc694f",
   "metadata": {},
   "outputs": [],
   "source": [
    "min_bound = np.array([-12.0, -327.0, -255.0])\n",
    "max_bound = np.array([163.0, -140.0, 20.0])"
   ]
  },
  {
   "cell_type": "code",
   "execution_count": 4,
   "id": "0713c176",
   "metadata": {},
   "outputs": [],
   "source": [
    "pcd_mesh_cropped = pcd_mesh.crop(o3d.geometry.AxisAlignedBoundingBox(min_bound=min_bound, max_bound=max_bound))"
   ]
  },
  {
   "cell_type": "code",
   "execution_count": 5,
   "metadata": {},
   "outputs": [],
   "source": [
    "o3d.visualization.draw_geometries([pcd_mesh_cropped])   "
   ]
  },
  {
   "cell_type": "code",
   "execution_count": 6,
   "id": "3c2e7faf",
   "metadata": {},
   "outputs": [
    {
     "name": "stdout",
     "output_type": "stream",
     "text": [
      "Width  : 175.00 [mm]\n",
      "Depth  : 187.00 [mm]\n",
      "Height : 275.00 [mm]\n"
     ]
    }
   ],
   "source": [
    "width = max_bound[0] - min_bound[0]        \n",
    "depth = max_bound[1] - min_bound[1]  \n",
    "height = max_bound[2] - min_bound[2]      \n",
    "\n",
    "print(f\"Width  : {width:.2f} [mm]\")\n",
    "print(f\"Depth  : {depth:.2f} [mm]\")\n",
    "print(f\"Height : {height:.2f} [mm]\")"
   ]
  }
 ],
 "metadata": {
  "kernelspec": {
   "display_name": "env_estereo",
   "language": "python",
   "name": "env_stereo"
  },
  "language_info": {
   "codemirror_mode": {
    "name": "ipython",
    "version": 3
   },
   "file_extension": ".py",
   "mimetype": "text/x-python",
   "name": "python",
   "nbconvert_exporter": "python",
   "pygments_lexer": "ipython3",
   "version": "3.11.0"
  }
 },
 "nbformat": 4,
 "nbformat_minor": 5
}
