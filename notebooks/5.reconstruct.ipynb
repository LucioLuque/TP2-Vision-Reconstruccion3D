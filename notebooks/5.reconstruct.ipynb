{
 "cells": [
  {
   "cell_type": "code",
   "execution_count": null,
   "id": "368a9fc4",
   "metadata": {},
   "outputs": [
    {
     "name": "stdout",
     "output_type": "stream",
     "text": [
      "Jupyter environment detected. Enabling Open3D WebVisualizer.\n",
      "[Open3D INFO] WebRTC GUI backend enabled.\n",
      "[Open3D INFO] WebRTCWindowSystem: HTTP handshake server disabled.\n"
     ]
    }
   ],
   "source": [
    "import pickle\n",
    "import sys\n",
    "import os\n",
    "import matplotlib.pyplot as plt\n",
    "import numpy as np\n",
    "import open3d as o3d\n",
    "import copy\n",
    "\n",
    "sys.path.append(os.path.abspath(os.path.join(\"..\", \"src\")))\n",
    "from reconstruct_funcs import *\n",
    "from utils import *\n",
    "\n",
    "%load_ext autoreload\n",
    "%autoreload 2"
   ]
  },
  {
   "cell_type": "code",
   "execution_count": 2,
   "id": "b0e1aa4d",
   "metadata": {},
   "outputs": [],
   "source": [
    "with open(\"../datasets/budha_board/rectification_results/stereo_rectification.pkl\", \"rb\") as f:\n",
    "    rectification_results = pickle.load(f)"
   ]
  },
  {
   "cell_type": "code",
   "execution_count": 3,
   "id": "a78058b0",
   "metadata": {},
   "outputs": [],
   "source": [
    "with open(\"../datasets/budha_board/poses/poses.pkl\", \"rb\") as f:\n",
    "    poses = pickle.load(f)"
   ]
  },
  {
   "cell_type": "code",
   "execution_count": 4,
   "id": "368c6996",
   "metadata": {},
   "outputs": [],
   "source": [
    "with open(\"../datasets/budha_board/disparities/disparities.pkl\", \"rb\") as f:\n",
    "    disparities = pickle.load(f)"
   ]
  },
  {
   "cell_type": "code",
   "execution_count": 5,
   "id": "4ba04dce",
   "metadata": {},
   "outputs": [
    {
     "name": "stdout",
     "output_type": "stream",
     "text": [
      "dict_keys(['R1', 'R2', 'P1', 'P2', 'Q', 'validRoi1', 'validRoi2', 'left_map_x', 'left_map_y', 'right_map_x', 'right_map_y'])\n"
     ]
    }
   ],
   "source": [
    "print(rectification_results.keys())"
   ]
  },
  {
   "cell_type": "code",
   "execution_count": 6,
   "id": "06a00b9f",
   "metadata": {},
   "outputs": [
    {
     "name": "stdout",
     "output_type": "stream",
     "text": [
      "Found 6 left images and 6 right images\n",
      "First left image: ..\\datasets\\budha_board\\rectified_captures\\left_rectified_0.jpg\n",
      "First right image: ..\\datasets\\budha_board\\rectified_captures\\right_rectified_0.jpg\n"
     ]
    }
   ],
   "source": [
    "dir = \"../datasets/budha_board/rectified_captures\"\n",
    "left_imgs, right_imgs = get_images(dir, prefix=\"\", ext=\"jpg\", print_info=True)"
   ]
  },
  {
   "cell_type": "code",
   "execution_count": 7,
   "id": "14f2a60a",
   "metadata": {},
   "outputs": [],
   "source": [
    "extent = np.array([700, 780, 700])\n",
    "nbn = 40\n",
    "std = 2\n",
    "path1 = \"../datasets/budha_board/cloud_points/budha_0_outliers.ply\"\n",
    "path2 = \"../datasets/budha_board/cloud_points/budha_0_without_outliers.ply\"\n",
    "scene, pcds = reconstruct(left_imgs, disparities, poses, rectification_results, extent,\n",
    "                           nbn, std, max_valid=10000, path1=path1, path2=path2)"
   ]
  },
  {
   "cell_type": "code",
   "execution_count": 8,
   "id": "5bbf34e3",
   "metadata": {},
   "outputs": [
    {
     "data": {
      "text/plain": [
       "True"
      ]
     },
     "execution_count": 8,
     "metadata": {},
     "output_type": "execute_result"
    }
   ],
   "source": [
    "path = \"../datasets/budha_board/cloud_points/budha_scene_unaligned.ply\"\n",
    "o3d.io.write_point_cloud(path, scene)"
   ]
  },
  {
   "cell_type": "code",
   "execution_count": 9,
   "id": "f10ac590",
   "metadata": {},
   "outputs": [],
   "source": [
    "source = pcds[3]\n",
    "target = pcds[0]\n",
    "transformation = np.eye(4)\n",
    "save_path = \"../datasets/budha_board/cloud_points/2_budha_clouds_unaligned.ply\"\n",
    "draw_registration_result(source, target, transformation, show=False, save_path=save_path)"
   ]
  },
  {
   "cell_type": "code",
   "execution_count": null,
   "id": "cc7107f5",
   "metadata": {},
   "outputs": [
    {
     "name": "stdout",
     "output_type": "stream",
     "text": [
      "Apply point-to-plane ICP to 3\n",
      "RegistrationResult with fitness=9.293827e-02, inlier_rmse=1.223151e+00, and correspondence_set size of 66886\n",
      "Access transformation to get result.\n",
      "Transformation is:\n",
      "[[1. 0. 0. 0.]\n",
      " [0. 1. 0. 0.]\n",
      " [0. 0. 1. 0.]\n",
      " [0. 0. 0. 1.]]\n"
     ]
    }
   ],
   "source": [
    "threshold = 2\n",
    "radius = 0.2\n",
    "max_nn = 50\n",
    "trans_init = np.eye(4)\n",
    "k = 50\n",
    "base = copy.deepcopy(pcds[0])\n",
    "base.estimate_normals(search_param=o3d.geometry.KDTreeSearchParamHybrid(radius=radius, max_nn=max_nn))\n",
    "base.orient_normals_consistent_tangent_plane(k=k)\n",
    "align_pcds = [base]\n",
    "scene = copy.deepcopy(base) \n",
    "transformations = []\n",
    "\n",
    "source = copy.deepcopy(pcds[3])\n",
    "print(f\"Apply point-to-plane ICP to {3}\")\n",
    "reg_p2l = o3d.pipelines.registration.registration_icp(\n",
    "    source, base, threshold, trans_init,\n",
    "    o3d.pipelines.registration.TransformationEstimationPointToPlane(),\n",
    "    criteria = o3d.pipelines.registration.ICPConvergenceCriteria(max_iteration=0,\n",
    "    relative_fitness=1e-6,\n",
    "    relative_rmse=1e-6)\n",
    ")\n",
    "print(reg_p2l)\n",
    "print(\"Transformation is:\")\n",
    "print(reg_p2l.transformation)\n",
    "source.transform(reg_p2l.transformation)\n",
    "scene += source\n",
    "align_pcds.append(source)  \n",
    "transformations.append(reg_p2l.transformation)\n"
   ]
  },
  {
   "cell_type": "code",
   "execution_count": 11,
   "id": "d17cfac3",
   "metadata": {},
   "outputs": [
    {
     "name": "stdout",
     "output_type": "stream",
     "text": [
      "Apply point-to-plane ICP to 1\n",
      "RegistrationResult with fitness=4.445487e-01, inlier_rmse=1.012915e+00, and correspondence_set size of 237297\n",
      "Access transformation to get result.\n",
      "Transformation is:\n",
      "[[ 9.99933715e-01 -1.59898305e-05  1.15137446e-02 -5.45537677e-03]\n",
      " [-9.19265369e-05  9.99956075e-01  9.37223947e-03 -1.91253503e-02]\n",
      " [-1.15133887e-02 -9.37267664e-03  9.99889791e-01 -4.46748957e+00]\n",
      " [ 0.00000000e+00  0.00000000e+00  0.00000000e+00  1.00000000e+00]]\n",
      "Apply point-to-plane ICP to 2\n",
      "RegistrationResult with fitness=3.782270e-01, inlier_rmse=1.010474e+00, and correspondence_set size of 221256\n",
      "Access transformation to get result.\n",
      "Transformation is:\n",
      "[[ 9.99284455e-01 -1.22316270e-03  3.78032104e-02  4.34324438e-01]\n",
      " [ 1.44619658e-04  9.99593211e-01  2.85200368e-02  1.32632611e-01]\n",
      " [-3.78227171e-02 -2.84941623e-02  9.98878133e-01  1.52834043e+01]\n",
      " [ 0.00000000e+00  0.00000000e+00  0.00000000e+00  1.00000000e+00]]\n",
      "Apply point-to-plane ICP to 3\n",
      "RegistrationResult with fitness=2.422403e-01, inlier_rmse=1.035809e+00, and correspondence_set size of 174336\n",
      "Access transformation to get result.\n",
      "Transformation is:\n",
      "[[ 9.99949151e-01 -6.56139122e-04  1.00629981e-02  9.64028327e-02]\n",
      " [ 2.55278832e-04  9.99208241e-01  3.97847406e-02  1.10286043e-01]\n",
      " [-1.00811349e-02 -3.97801487e-02  9.99157600e-01  7.32201180e+00]\n",
      " [ 0.00000000e+00  0.00000000e+00  0.00000000e+00  1.00000000e+00]]\n",
      "Apply point-to-plane ICP to 4\n",
      "RegistrationResult with fitness=4.139866e-01, inlier_rmse=9.584211e-01, and correspondence_set size of 289813\n",
      "Access transformation to get result.\n",
      "Transformation is:\n",
      "[[ 9.99256328e-01 -1.34316112e-03  3.85355276e-02  5.17707711e-01]\n",
      " [ 9.45845057e-05  9.99475490e-01  3.23842056e-02  2.66304139e-01]\n",
      " [-3.85588125e-02 -3.23564775e-02  9.98732335e-01  1.71879809e+01]\n",
      " [ 0.00000000e+00  0.00000000e+00  0.00000000e+00  1.00000000e+00]]\n",
      "Apply point-to-plane ICP to 5\n",
      "RegistrationResult with fitness=3.844562e-01, inlier_rmse=9.931178e-01, and correspondence_set size of 248228\n",
      "Access transformation to get result.\n",
      "Transformation is:\n",
      "[[ 9.99207774e-01 -1.79953843e-04  3.97968878e-02 -5.02620694e-02]\n",
      " [-1.83626484e-04  9.99958285e-01  9.13205446e-03 -1.49247532e-02]\n",
      " [-3.97968711e-02 -9.13212757e-03  9.99166059e-01  5.96105871e-01]\n",
      " [ 0.00000000e+00  0.00000000e+00  0.00000000e+00  1.00000000e+00]]\n"
     ]
    }
   ],
   "source": [
    "scene_aligned, aligned_pcds, transformations = align_pcds(pcds, np.eye(4), threshold = 2, radius = 0.2, max_nn = 50, k =50)"
   ]
  },
  {
   "cell_type": "code",
   "execution_count": 12,
   "id": "9fef3e55",
   "metadata": {},
   "outputs": [
    {
     "data": {
      "text/plain": [
       "True"
      ]
     },
     "execution_count": 12,
     "metadata": {},
     "output_type": "execute_result"
    }
   ],
   "source": [
    "path = \"../datasets/budha_board/cloud_points/budha_scene_aligned.ply\"\n",
    "o3d.io.write_point_cloud(path, scene_aligned)"
   ]
  },
  {
   "cell_type": "code",
   "execution_count": null,
   "id": "fe5ced37",
   "metadata": {},
   "outputs": [],
   "source": [
    "path = \"../datasets/budha_board/cloud_points/budha_scene_aligned.ply\"\n",
    "scene_aligned = o3d.io.read_point_cloud(path)"
   ]
  },
  {
   "cell_type": "code",
   "execution_count": 14,
   "id": "b4907364",
   "metadata": {},
   "outputs": [
    {
     "name": "stdout",
     "output_type": "stream",
     "text": [
      "yellow source \n",
      "blue target\n"
     ]
    }
   ],
   "source": [
    "source = pcds[3]\n",
    "target = pcds[0]\n",
    "transformation = transformations[2]\n",
    "save_path = \"../datasets/budha_board/cloud_points/2_budha_clouds_aligned.ply\"\n",
    "draw_registration_result(source, target, transformation, show=False, save_path=save_path)\n"
   ]
  },
  {
   "cell_type": "code",
   "execution_count": null,
   "id": "f73af531",
   "metadata": {},
   "outputs": [],
   "source": [
    "min_bound_budha = np.array([-20, -330, -300])\n",
    "max_bound_budha = np.array([170, -118, 65])"
   ]
  },
  {
   "cell_type": "code",
   "execution_count": null,
   "id": "68da10ed",
   "metadata": {},
   "outputs": [],
   "source": [
    "box_budha = o3d.geometry.AxisAlignedBoundingBox(min_bound_budha, max_bound_budha)\n",
    "\n",
    "indices_in_box = box_budha.get_point_indices_within_bounding_box(scene_aligned.points)\n",
    "pcd_room = scene_aligned.select_by_index(indices_in_box, invert=True)\n",
    "\n",
    "pcd_budha = scene_aligned.select_by_index(indices_in_box)"
   ]
  },
  {
   "cell_type": "code",
   "execution_count": null,
   "id": "c5f3d110",
   "metadata": {},
   "outputs": [
    {
     "name": "stdout",
     "output_type": "stream",
     "text": [
      "computing mesh using ball pivoting...\n"
     ]
    },
    {
     "data": {
      "text/plain": [
       "True"
      ]
     },
     "execution_count": 17,
     "metadata": {},
     "output_type": "execute_result"
    }
   ],
   "source": [
    "voxel_size = 2\n",
    "pcd_down = pcd_budha.voxel_down_sample(voxel_size=voxel_size)\n",
    "mesh_budha = create_mesh_from_point_cloud(pcd_down, voxel_size, max_nn=30, k=30, method=\"pivoting\")\n",
    "o3d.io.write_triangle_mesh(\"../datasets/budha_board/meshes/budha_mesh.ply\", mesh_budha)"
   ]
  },
  {
   "cell_type": "code",
   "execution_count": null,
   "id": "634e2a0d",
   "metadata": {},
   "outputs": [
    {
     "name": "stdout",
     "output_type": "stream",
     "text": [
      "computing mesh using poisson reconstruction...\n"
     ]
    },
    {
     "data": {
      "text/plain": [
       "True"
      ]
     },
     "execution_count": 18,
     "metadata": {},
     "output_type": "execute_result"
    }
   ],
   "source": [
    "voxel_size = 2\n",
    "pcd_down = pcd_room.voxel_down_sample(voxel_size=voxel_size)\n",
    "mesh_room = create_mesh_from_point_cloud(pcd_down, voxel_size, max_nn=30, k=30, depth=13, scale=1, linear_fit=False, method=\"poisson\")\n",
    "o3d.io.write_triangle_mesh(\"../datasets/budha_board/meshes/room_mesh.ply\", mesh_room)"
   ]
  },
  {
   "cell_type": "code",
   "execution_count": 19,
   "id": "033d5195",
   "metadata": {},
   "outputs": [
    {
     "data": {
      "text/plain": [
       "True"
      ]
     },
     "execution_count": 19,
     "metadata": {},
     "output_type": "execute_result"
    }
   ],
   "source": [
    "total_mesh = mesh_budha + mesh_room\n",
    "path = \"../datasets/budha_board/meshes/final_mesh.ply\"\n",
    "o3d.io.write_triangle_mesh(path, total_mesh)"
   ]
  }
 ],
 "metadata": {
  "kernelspec": {
   "display_name": "env_estereo",
   "language": "python",
   "name": "env_stereo"
  },
  "language_info": {
   "codemirror_mode": {
    "name": "ipython",
    "version": 3
   },
   "file_extension": ".py",
   "mimetype": "text/x-python",
   "name": "python",
   "nbconvert_exporter": "python",
   "pygments_lexer": "ipython3",
   "version": "3.11.0"
  }
 },
 "nbformat": 4,
 "nbformat_minor": 5
}
